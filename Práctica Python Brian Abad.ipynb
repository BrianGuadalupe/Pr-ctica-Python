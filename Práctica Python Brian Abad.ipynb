{
 "cells": [
  {
   "cell_type": "markdown",
   "id": "1569f27c-8949-4787-873d-b4b03d01da39",
   "metadata": {},
   "source": [
    "https://github.com/BrianGuadalupe/Practica-Python\n",
    "https://github.com/BrianGuadalupe/Practica-Python/blob/main/Pr%C3%A1ctica%20Python%20Brian%20Abad.ipynb\n",
    "\n",
    "**Practica Python - Brian Abad Guadalupe - 03/11/2024**"
   ]
  },
  {
   "cell_type": "markdown",
   "id": "85380137-8d51-4cb4-b933-d431466868eb",
   "metadata": {},
   "source": [
    "1. Realizar una funcion que recibe 3 numeros (d, m, a) que representan una fecha (dıa, mes y ano). El programa debe devolver el dıa (la fecha) siguiente a la recibida por parametro. Se debe tener en cuenta los dıas de cada mes y los anos bisiestos."
   ]
  },
  {
   "cell_type": "code",
   "execution_count": 27,
   "id": "489cd601-b600-4498-b02c-71b888c82900",
   "metadata": {},
   "outputs": [
    {
     "name": "stdout",
     "output_type": "stream",
     "text": [
      "La fecha siguiente a 21/2/2024 es: (22, 2, 2024)\n"
     ]
    }
   ],
   "source": [
    "def es_bisiesto(a):\n",
    "    # Comprobamos si el año es bisiesto\n",
    "    return (a % 4 == 0 and a % 100 != 0) or (a % 400 == 0)\n",
    "\n",
    "def dia_siguiente(d, m, a):\n",
    "    # Días en cada mes\n",
    "    dias_en_mes = [31, 29 if es_bisiesto(a) else 28, 31, 30, 31, 30, 31, 31, 30, 31, 30, 31]\n",
    "    \n",
    "    # Incrementar el día\n",
    "    d += 1\n",
    "    \n",
    "    # Comprobamos si el día supera el límite del mes actual\n",
    "    if d > dias_en_mes[m - 1]:\n",
    "        d = 1  # Reiniciamos el día a 1\n",
    "        m += 1  # Incrementamos el mes\n",
    "        \n",
    "        # Comprobamos si el mes supera el límite del año\n",
    "        if m > 12:\n",
    "            m = 1  # Reiniciamos el mes a enero\n",
    "            a += 1  # Incrementamos el año\n",
    "            \n",
    "    return d, m, a\n",
    "\n",
    "# Ejemplo de uso\n",
    "d, m, a = 21, 2, 2024\n",
    "print(f\"La fecha siguiente a {d}/{m}/{a} es: {dia_siguiente(d, m, a)}\")"
   ]
  },
  {
   "cell_type": "markdown",
   "id": "fbe8e1c6-4d35-4676-acbe-c2f8da5c0d76",
   "metadata": {},
   "source": [
    "La función dia_siguiente(d, m, a) recibe una fecha (día, mes, año) y devuelve la fecha del día siguiente, teniendo en cuenta los días de cada mes y los años bisiestos. Primero, determina si el año es bisiesto usando es_bisiesto(a), para definir si febrero tiene 28 o 29 días. Luego, se incrementa el día (d += 1) y se verifica si ha superado el límite del mes; si es así, el día se reinicia a 1 y se incrementa el mes. Si el mes excede 12, se reinicia a enero (m = 1) y se incrementa el año (a += 1). De esta forma, la función gestiona correctamente los límites de cada mes y el cambio de año."
   ]
  },
  {
   "cell_type": "markdown",
   "id": "eb2e1b56-1d71-4a0c-b554-558f6a61a7db",
   "metadata": {},
   "source": [
    "2. Dada la siguiente lista [...] construye un programa que muestre por pantalla cuantas veces aparece cada una de ellas."
   ]
  },
  {
   "cell_type": "code",
   "execution_count": 41,
   "id": "911a4f78-ad6e-4172-a924-b52f95e1cf12",
   "metadata": {},
   "outputs": [
    {
     "name": "stdout",
     "output_type": "stream",
     "text": [
      "La palabra 'Perro' aparece 1 vez(veces).\n",
      "La palabra 'Gato' aparece 1 vez(veces).\n",
      "La palabra 'Casa' aparece 1 vez(veces).\n",
      "La palabra 'Coche' aparece 1 vez(veces).\n",
      "La palabra 'Árbol' aparece 1 vez(veces).\n",
      "La palabra 'Sol' aparece 1 vez(veces).\n",
      "La palabra 'Luna' aparece 1 vez(veces).\n",
      "La palabra 'Mar' aparece 1 vez(veces).\n",
      "La palabra 'Montaña' aparece 1 vez(veces).\n",
      "La palabra 'Rıo' aparece 1 vez(veces).\n",
      "La palabra 'Playa' aparece 1 vez(veces).\n",
      "La palabra 'Libro' aparece 1 vez(veces).\n",
      "La palabra 'Computadora' aparece 1 vez(veces).\n",
      "La palabra 'Telefono' aparece 1 vez(veces).\n",
      "La palabra 'Amigo' aparece 1 vez(veces).\n",
      "La palabra 'Familia' aparece 1 vez(veces).\n",
      "La palabra 'Trabajo' aparece 1 vez(veces).\n",
      "La palabra 'Comida' aparece 1 vez(veces).\n",
      "La palabra 'Pelicula' aparece 1 vez(veces).\n",
      "La palabra 'Música' aparece 1 vez(veces).\n",
      "La palabra 'Viaje' aparece 1 vez(veces).\n",
      "La palabra 'Deporte' aparece 1 vez(veces).\n",
      "La palabra 'Juego' aparece 1 vez(veces).\n",
      "La palabra 'Amor' aparece 1 vez(veces).\n",
      "La palabra 'Odio' aparece 1 vez(veces).\n",
      "La palabra 'Felicidad' aparece 1 vez(veces).\n",
      "La palabra 'Tristeza' aparece 1 vez(veces).\n",
      "La palabra 'Alegría' aparece 1 vez(veces).\n",
      "La palabra 'Dolor' aparece 1 vez(veces).\n",
      "La palabra 'Sueño' aparece 1 vez(veces).\n",
      "La palabra 'Noche' aparece 1 vez(veces).\n",
      "La palabra 'Dıa' aparece 1 vez(veces).\n",
      "La palabra 'Agua' aparece 1 vez(veces).\n",
      "La palabra 'Fuego' aparece 1 vez(veces).\n",
      "La palabra 'Aire' aparece 1 vez(veces).\n",
      "La palabra 'Tierra' aparece 1 vez(veces).\n",
      "La palabra 'Cielo' aparece 1 vez(veces).\n",
      "La palabra 'Estrella' aparece 1 vez(veces).\n",
      "La palabra 'Flor' aparece 1 vez(veces).\n",
      "La palabra 'Fruta' aparece 1 vez(veces).\n",
      "La palabra 'Verdura' aparece 1 vez(veces).\n",
      "La palabra 'Chocolate' aparece 1 vez(veces).\n",
      "La palabra 'Cafe' aparece 1 vez(veces).\n",
      "La palabra 'Te' aparece 1 vez(veces).\n",
      "La palabra 'Vino' aparece 1 vez(veces).\n",
      "La palabra 'Cerveza' aparece 1 vez(veces).\n",
      "La palabra 'Dinero' aparece 1 vez(veces).\n",
      "La palabra 'Tiempo' aparece 1 vez(veces).\n",
      "La palabra 'Reloj' aparece 2 vez(veces).\n"
     ]
    }
   ],
   "source": [
    "# Lista de palabras en español\n",
    "palabras_espanol = [\"Perro\", \"Gato\", \"Casa\", \"Coche\", \"Árbol\", \"Sol\", \"Luna\", \"Mar\", \"Montaña\", \"Rıo\", \"Playa\", \n",
    "                    \"Libro\", \"Computadora\", \"Telefono\", \"Amigo\", \"Familia\", \"Trabajo\", \"Comida\", \"Pelicula\", \n",
    "                    \"Música\", \"Viaje\", \"Deporte\", \"Juego\", \"Amor\", \"Odio\", \"Felicidad\", \"Tristeza\", \"Alegría\", \n",
    "                    \"Dolor\", \"Sueño\", \"Noche\", \"Dıa\", \"Agua\", \"Fuego\", \"Aire\", \"Tierra\", \"Cielo\", \"Estrella\", \n",
    "                    \"Flor\", \"Fruta\", \"Verdura\", \"Chocolate\", \"Cafe\", \"Te\", \"Vino\", \"Cerveza\", \"Dinero\", \n",
    "                    \"Tiempo\", \"Reloj\", \"Reloj\"]\n",
    "conteo_palabras = {}\n",
    "\n",
    "# Contar cuántas veces aparece cada palabra\n",
    "for palabra in palabras_espanol:\n",
    "    if palabra in conteo_palabras:\n",
    "        conteo_palabras[palabra] += 1\n",
    "    else:\n",
    "        conteo_palabras[palabra] = 1\n",
    "\n",
    "# Mostrar los resultados\n",
    "for palabra, conteo in conteo_palabras.items():\n",
    "    print(f\"La palabra '{palabra}' aparece {conteo} vez(veces).\")"
   ]
  },
  {
   "cell_type": "markdown",
   "id": "de905412-59f7-45d6-9d64-74b2c69f5f06",
   "metadata": {},
   "source": [
    "3. Dado el siguiente diccionario con información del precio de diferentes productos por día [..] responde a las siguientes preguntas:\n",
    " • ¿Cual es el precio m´ aximo de cada producto?\n",
    " • ¿Cual es el producto m´ as caro?\n",
    " • ¿Que dıa son mas caras las naranjas?"
   ]
  },
  {
   "cell_type": "code",
   "execution_count": 69,
   "id": "49a829a4-1167-490b-9f4d-e70c02867df1",
   "metadata": {},
   "outputs": [
    {
     "name": "stdout",
     "output_type": "stream",
     "text": [
      "Precio máximo de cada producto:\n",
      " - cebolla: 39.0\n",
      " - patata: 0.43\n",
      " - naranja: 0.56\n",
      "\n",
      "El producto más caro es: cebolla\n",
      "\n",
      "Las naranjas son más caras el día 2\n"
     ]
    }
   ],
   "source": [
    "precio_origen = {\n",
    "    \"cebolla\": [30.3, 20.3, 25.9, 39.0],  # centimos/kg\n",
    "    \"patata\": [0.33, 0.43, 0.34, 0.12],   # euro/kg\n",
    "    \"naranja\": [0.45, 0.56, 0.38, 0.43]   # euro/kg\n",
    "}\n",
    "\n",
    "# 1. Precio máximo de cada producto\n",
    "print(\"Precio máximo de cada producto:\")\n",
    "for producto in precio_origen:\n",
    "    precios = precio_origen[producto]\n",
    "    max_precio = precios[0]\n",
    "    for precio in precios:\n",
    "        if precio > max_precio:\n",
    "            max_precio = precio\n",
    "    print(f\" - {producto}: {max_precio}\")\n",
    "\n",
    "# 2. Producto más caro\n",
    "producto_mas_caro = None\n",
    "precio_max_global = None\n",
    "\n",
    "for producto in precio_origen:\n",
    "    precios = precio_origen[producto]\n",
    "    max_precio = precios[0]\n",
    "    for precio in precios:\n",
    "        if precio > max_precio:\n",
    "            max_precio = precio\n",
    "    if precio_max_global is None or max_precio > precio_max_global:\n",
    "        precio_max_global = max_precio\n",
    "        producto_mas_caro = producto\n",
    "\n",
    "print(f\"\\nEl producto más caro es: {producto_mas_caro}\")\n",
    "\n",
    "# 3. Día más caro para las naranjas\n",
    "precios_naranja = precio_origen[\"naranja\"]\n",
    "max_precio_naranja = precios_naranja[0]\n",
    "dia_mas_caro = 0\n",
    "\n",
    "for i in range(len(precios_naranja)):\n",
    "    if precios_naranja[i] > max_precio_naranja:\n",
    "        max_precio_naranja = precios_naranja[i]\n",
    "        dia_mas_caro = i\n",
    "\n",
    "print(f\"\\nLas naranjas son más caras el día {dia_mas_caro + 1}\")\n"
   ]
  },
  {
   "cell_type": "markdown",
   "id": "14a764c0-bbd9-43b4-9b17-5be07e0af2cd",
   "metadata": {},
   "source": [
    "En este ejercicio, resolvemos las tres preguntas sobre los precios de los productos recorriendo manualmente cada lista de precios con bucles for. Primero, encontramos el precio máximo de cada producto comenzando con el primer valor de la lista y actualizándolo cada vez que hallamos un precio mayor. Desspués, determinamos cuál es el producto más caro comparando el precio máximo de cada producto con el mayor encontrado hasta ese momento. Finalmente, identificamos el día en que las naranjas son más caras recorriendo su lista de precios y guardando el índice del precio más alto. Con este enfoque, evitamos el uso de funciones avanzadas y empleamos únicamente conceptos básicos como bucles y variables simples para hacer las comparaciones."
   ]
  },
  {
   "cell_type": "markdown",
   "id": "b950ab66-31cf-4239-8f1c-fe316a1d3c14",
   "metadata": {},
   "source": [
    "- Problema:\n",
    "\n",
    "     Una empresa tiene un inventario de productos con diferentes categorıas, y cada producto tiene un precio y una cantidad en stock. El objetivo es gestionar el inventario de forma eficiente. Instrucciones:\n",
    " 1. Crea un diccionario donde la clave sea el nombre de una categorıa de producto y el valor sea una lista de tuplas. Cada tupla contendra el nombre del producto, el precio y la cantidad en stock.\n",
    " 2. Crea una funcion que calcule el valor total de inventario por categorıa (precio por cantidad para cada producto).\n",
    " 3. Muestra la categorıa que tiene el valor total m´ as alto en inventario.\n",
    " 4. Anade una opcion para actualizar el stock de un producto en una categorıa especifica."
   ]
  },
  {
   "cell_type": "code",
   "execution_count": 275,
   "id": "2cd75bde-e123-413b-9578-4da070bbcb94",
   "metadata": {},
   "outputs": [
    {
     "name": "stdout",
     "output_type": "stream",
     "text": [
      "Categoría: Electrónica\n",
      " - Producto: Teléfono, Precio: 500, Cantidad en stock: 25\n",
      " - Producto: Laptop, Precio: 1000, Cantidad en stock: 15\n",
      " - Producto: Auriculares, Precio: 50, Cantidad en stock: 100\n",
      "\n",
      "Categoría: Alimentos\n",
      " - Producto: Manzana, Precio: 1.2, Cantidad en stock: 200\n",
      " - Producto: Pan, Precio: 1.5, Cantidad en stock: 100\n",
      " - Producto: Leche, Precio: 0.9, Cantidad en stock: 50\n",
      "\n",
      "Categoría: Ropa\n",
      " - Producto: Camiseta, Precio: 15, Cantidad en stock: 75\n",
      " - Producto: Pantalones, Precio: 40, Cantidad en stock: 50\n",
      " - Producto: Zapatos, Precio: 60, Cantidad en stock: 30\n",
      "\n",
      "Categoría: Muebles\n",
      " - Producto: Silla, Precio: 25, Cantidad en stock: 20\n",
      " - Producto: Mesa, Precio: 80, Cantidad en stock: 10\n",
      " - Producto: Estantería, Precio: 120, Cantidad en stock: 5\n",
      "\n"
     ]
    }
   ],
   "source": [
    "# 1.\n",
    "\n",
    "# Diccionario de inventario de la empresa\n",
    "inventario = {\n",
    "    \"Electrónica\": [\n",
    "        (\"Teléfono\", 500, 25),\n",
    "        (\"Laptop\", 1000, 15),\n",
    "        (\"Auriculares\", 50, 100)\n",
    "    ],\n",
    "    \"Alimentos\": [\n",
    "        (\"Manzana\", 1.2, 200),\n",
    "        (\"Pan\", 1.5, 100),\n",
    "        (\"Leche\", 0.9, 50)\n",
    "    ],\n",
    "    \"Ropa\": [\n",
    "        (\"Camiseta\", 15, 75),\n",
    "        (\"Pantalones\", 40, 50),\n",
    "        (\"Zapatos\", 60, 30)\n",
    "    ],\n",
    "    \"Muebles\": [\n",
    "        (\"Silla\", 25, 20),\n",
    "        (\"Mesa\", 80, 10),\n",
    "        (\"Estantería\", 120, 5)\n",
    "    ]\n",
    "}\n",
    "\n",
    "# Mostrar el inventario\n",
    "for categoria, productos in inventario.items():\n",
    "    print(f\"Categoría: {categoria}\")\n",
    "    for producto in productos:\n",
    "        nombre, precio, cantidad = producto\n",
    "        print(f\" - Producto: {nombre}, Precio: {precio}, Cantidad en stock: {cantidad}\")\n",
    "    print()"
   ]
  },
  {
   "cell_type": "code",
   "execution_count": 527,
   "id": "b4791267-1be7-443d-8e63-6ddb216dedab",
   "metadata": {},
   "outputs": [
    {
     "name": "stdout",
     "output_type": "stream",
     "text": [
      "Valor total del inventario por categoría:\n",
      " - Electrónica: 35000 euros\n",
      " - Alimentos: 435.0 euros\n",
      " - Ropa: 4925 euros\n",
      " - Muebles: 1900 euros\n",
      "\n",
      "La categoría con el valor total más alto en inventario es: Electrónica con un valor de 35000 euros.\n",
      "Stock actualizado: Teléfono ahora tiene 30 unidades en la categoría Electrónica.\n"
     ]
    }
   ],
   "source": [
    "#2\n",
    "def calcular_valor_inventario_por_categoria(inventario):\n",
    "    # Crear un diccionario vacío para almacenar los valores totales\n",
    "    valor_total_por_categoria = {}\n",
    "    \n",
    "    # Recorrer cada categoría en el inventario\n",
    "    for categoria in inventario:\n",
    "        # Inicializar el valor total de la categoría en 0\n",
    "        valor_total = 0\n",
    "        \n",
    "        # Recorrer la lista de productos en la categoría\n",
    "        for producto in inventario[categoria]:\n",
    "            # Desempaquetar la tupla para obtener el nombre, precio y cantidad\n",
    "            nombre = producto[0]\n",
    "            precio = producto[1]\n",
    "            cantidad = producto[2]\n",
    "            \n",
    "            # Sumar al valor total el precio por la cantidad\n",
    "            valor_total += precio * cantidad\n",
    "        \n",
    "        # Almacenar el valor total de la categoría en el diccionario\n",
    "        valor_total_por_categoria[categoria] = valor_total\n",
    "    \n",
    "    # Devolver el diccionario con los valores totales por categoría\n",
    "    return valor_total_por_categoria\n",
    "\n",
    "# Calcular el valor total del inventario por categoría\n",
    "valores_totales = calcular_valor_inventario_por_categoria(inventario)\n",
    "\n",
    "# Mostrar los valores totales por categoría\n",
    "print(\"Valor total del inventario por categoría:\")\n",
    "for categoria in valores_totales:\n",
    "    print(\" - \" + categoria + \": \" + str(valores_totales[categoria]) + \" euros\")\n",
    "\n",
    "# 3. Encontrar la categoría con el valor total más alto en inventario\n",
    "# Inicializar variables para almacenar la categoría más valiosa y su valor\n",
    "categoria_mas_valiosa = None\n",
    "valor_mas_alto = 0\n",
    "\n",
    "# Recorrer cada categoría para encontrar la de mayor valor\n",
    "for categoria in valores_totales:\n",
    "    if valores_totales[categoria] > valor_mas_alto:\n",
    "        valor_mas_alto = valores_totales[categoria]\n",
    "        categoria_mas_valiosa = categoria\n",
    "\n",
    "# Mostrar la categoría con el valor total más alto\n",
    "print(\"\\nLa categoría con el valor total más alto en inventario es: \" + categoria_mas_valiosa + \" con un valor de \" + str(valor_mas_alto) + \" euros.\")\n",
    "\n",
    "def actualizar_stock(inventario, categoria, producto_nombre, nueva_cantidad):\n",
    "    # Verificar si la categoría existe en el inventario\n",
    "    if categoria in inventario:\n",
    "        # Recorrer la lista de productos en la categoría\n",
    "        for i in range(len(inventario[categoria])):\n",
    "            nombre, precio, cantidad = inventario[categoria][i]\n",
    "            # Si el nombre del producto coincide, actualizar la cantidad\n",
    "            if nombre == producto_nombre:\n",
    "                inventario[categoria][i] = (nombre, precio, nueva_cantidad)\n",
    "                print(f\"Stock actualizado: {producto_nombre} ahora tiene {nueva_cantidad} unidades en la categoría {categoria}.\")\n",
    "                return\n",
    "        # Si el producto no se encuentra\n",
    "        print(f\"Producto '{producto_nombre}' no encontrado en la categoría '{categoria}'.\")\n",
    "    else:\n",
    "        # Si la categoría no se encuentra\n",
    "        print(f\"Categoría '{categoria}' no encontrada en el inventario.\")\n",
    "\n",
    "# Ejemplo de uso de la función para actualizar el stock\n",
    "actualizar_stock(inventario, \"Electrónica\", \"Teléfono\", 30)\n"
   ]
  }
 ],
 "metadata": {
  "kernelspec": {
   "display_name": "Python 3 (ipykernel)",
   "language": "python",
   "name": "python3"
  },
  "language_info": {
   "codemirror_mode": {
    "name": "ipython",
    "version": 3
   },
   "file_extension": ".py",
   "mimetype": "text/x-python",
   "name": "python",
   "nbconvert_exporter": "python",
   "pygments_lexer": "ipython3",
   "version": "3.12.4"
  }
 },
 "nbformat": 4,
 "nbformat_minor": 5
}
